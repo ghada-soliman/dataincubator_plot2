{
 "cells": [
  {
   "cell_type": "markdown",
   "metadata": {},
   "source": [
    "### The Facebook Followers dataset has been used for exploratory analysis. This dataset is published on the data incubator blog for data analysis. \n",
    "### This project tackles the below question using the talking about metric:\n",
    "### Who are the top 5 companies of talking about by Facebook followers and what is the trend of the top winner? "
   ]
  },
  {
   "cell_type": "code",
   "execution_count": 1,
   "metadata": {},
   "outputs": [],
   "source": [
    "import pandas as pd\n",
    "import numpy as np\n",
    "import matplotlib.pyplot as plt\n",
    "from sklearn.cluster import KMeans\n",
    "%matplotlib inline"
   ]
  },
  {
   "cell_type": "code",
   "execution_count": 2,
   "metadata": {},
   "outputs": [
    {
     "name": "stderr",
     "output_type": "stream",
     "text": [
      "C:\\Users\\dwnt2427\\AppData\\Local\\Continuum\\anaconda3\\envs\\dlnd-tf-lab\\lib\\site-packages\\IPython\\core\\interactiveshell.py:2717: DtypeWarning: Columns (9) have mixed types. Specify dtype option on import or set low_memory=False.\n",
      "  interactivity=interactivity, compiler=compiler, result=result)\n"
     ]
    }
   ],
   "source": [
    "data = pd.read_csv(\"C:\\\\Users\\\\dwnt2427\\\\PythonNotebooks\\\\Data_Incubator_competition\\\\temp_datalab_records_social_facebook.csv\") "
   ]
  },
  {
   "cell_type": "code",
   "execution_count": 3,
   "metadata": {},
   "outputs": [
    {
     "data": {
      "text/html": [
       "<div>\n",
       "<table border=\"1\" class=\"dataframe\">\n",
       "  <thead>\n",
       "    <tr style=\"text-align: right;\">\n",
       "      <th></th>\n",
       "      <th>dataset_id</th>\n",
       "      <th>time</th>\n",
       "      <th>username</th>\n",
       "      <th>checkins</th>\n",
       "      <th>has_added_app</th>\n",
       "      <th>were_here_count</th>\n",
       "      <th>likes</th>\n",
       "      <th>talking_about_count</th>\n",
       "      <th>facebook_id</th>\n",
       "      <th>date_added</th>\n",
       "      <th>date_updated</th>\n",
       "      <th>entity_id</th>\n",
       "      <th>cusip</th>\n",
       "      <th>isin</th>\n",
       "    </tr>\n",
       "  </thead>\n",
       "  <tbody>\n",
       "    <tr>\n",
       "      <th>0</th>\n",
       "      <td>53088</td>\n",
       "      <td>2015-01-01 05:00:00+00</td>\n",
       "      <td>SodaStream</td>\n",
       "      <td>0</td>\n",
       "      <td>f</td>\n",
       "      <td>0</td>\n",
       "      <td>761533</td>\n",
       "      <td>587</td>\n",
       "      <td>54885616308</td>\n",
       "      <td>NaN</td>\n",
       "      <td>2017-02-14 03:35:13.236826+00</td>\n",
       "      <td>NaN</td>\n",
       "      <td>NaN</td>\n",
       "      <td>NaN</td>\n",
       "    </tr>\n",
       "    <tr>\n",
       "      <th>1</th>\n",
       "      <td>52642</td>\n",
       "      <td>2015-01-01 05:00:00+00</td>\n",
       "      <td>ANSYSInc</td>\n",
       "      <td>148</td>\n",
       "      <td>f</td>\n",
       "      <td>0</td>\n",
       "      <td>43442</td>\n",
       "      <td>1305</td>\n",
       "      <td>160242297413411</td>\n",
       "      <td>NaN</td>\n",
       "      <td>2017-02-14 01:55:52.78506+00</td>\n",
       "      <td>NaN</td>\n",
       "      <td>NaN</td>\n",
       "      <td>NaN</td>\n",
       "    </tr>\n",
       "    <tr>\n",
       "      <th>2</th>\n",
       "      <td>53656</td>\n",
       "      <td>2015-01-01 05:00:00+00</td>\n",
       "      <td>MyAquaAmerica</td>\n",
       "      <td>0</td>\n",
       "      <td>f</td>\n",
       "      <td>0</td>\n",
       "      <td>5591</td>\n",
       "      <td>297</td>\n",
       "      <td>591693544195818</td>\n",
       "      <td>NaN</td>\n",
       "      <td>2017-02-14 08:13:51.267343+00</td>\n",
       "      <td>NaN</td>\n",
       "      <td>NaN</td>\n",
       "      <td>NaN</td>\n",
       "    </tr>\n",
       "    <tr>\n",
       "      <th>3</th>\n",
       "      <td>53033</td>\n",
       "      <td>2015-01-01 05:00:00+00</td>\n",
       "      <td>Qualcomm</td>\n",
       "      <td>173</td>\n",
       "      <td>f</td>\n",
       "      <td>0</td>\n",
       "      <td>1232521</td>\n",
       "      <td>2685</td>\n",
       "      <td>108472637291</td>\n",
       "      <td>NaN</td>\n",
       "      <td>2017-02-14 03:24:04.363035+00</td>\n",
       "      <td>NaN</td>\n",
       "      <td>NaN</td>\n",
       "      <td>NaN</td>\n",
       "    </tr>\n",
       "    <tr>\n",
       "      <th>4</th>\n",
       "      <td>52783</td>\n",
       "      <td>2015-01-01 05:00:00+00</td>\n",
       "      <td>eaglepharmaceuticals</td>\n",
       "      <td>0</td>\n",
       "      <td>f</td>\n",
       "      <td>0</td>\n",
       "      <td>18</td>\n",
       "      <td>0</td>\n",
       "      <td>1428265940729350</td>\n",
       "      <td>NaN</td>\n",
       "      <td>2017-02-14 02:22:10.193588+00</td>\n",
       "      <td>NaN</td>\n",
       "      <td>NaN</td>\n",
       "      <td>NaN</td>\n",
       "    </tr>\n",
       "  </tbody>\n",
       "</table>\n",
       "</div>"
      ],
      "text/plain": [
       "   dataset_id                    time              username  checkins  \\\n",
       "0       53088  2015-01-01 05:00:00+00            SodaStream         0   \n",
       "1       52642  2015-01-01 05:00:00+00              ANSYSInc       148   \n",
       "2       53656  2015-01-01 05:00:00+00         MyAquaAmerica         0   \n",
       "3       53033  2015-01-01 05:00:00+00              Qualcomm       173   \n",
       "4       52783  2015-01-01 05:00:00+00  eaglepharmaceuticals         0   \n",
       "\n",
       "  has_added_app  were_here_count    likes  talking_about_count  \\\n",
       "0             f                0   761533                  587   \n",
       "1             f                0    43442                 1305   \n",
       "2             f                0     5591                  297   \n",
       "3             f                0  1232521                 2685   \n",
       "4             f                0       18                    0   \n",
       "\n",
       "        facebook_id date_added                   date_updated  entity_id  \\\n",
       "0       54885616308        NaN  2017-02-14 03:35:13.236826+00        NaN   \n",
       "1   160242297413411        NaN   2017-02-14 01:55:52.78506+00        NaN   \n",
       "2   591693544195818        NaN  2017-02-14 08:13:51.267343+00        NaN   \n",
       "3      108472637291        NaN  2017-02-14 03:24:04.363035+00        NaN   \n",
       "4  1428265940729350        NaN  2017-02-14 02:22:10.193588+00        NaN   \n",
       "\n",
       "   cusip  isin  \n",
       "0    NaN   NaN  \n",
       "1    NaN   NaN  \n",
       "2    NaN   NaN  \n",
       "3    NaN   NaN  \n",
       "4    NaN   NaN  "
      ]
     },
     "execution_count": 3,
     "metadata": {},
     "output_type": "execute_result"
    }
   ],
   "source": [
    "data.head(5)"
   ]
  },
  {
   "cell_type": "code",
   "execution_count": 4,
   "metadata": {},
   "outputs": [
    {
     "data": {
      "text/plain": [
       "(3621391, 14)"
      ]
     },
     "execution_count": 4,
     "metadata": {},
     "output_type": "execute_result"
    }
   ],
   "source": [
    "data.shape"
   ]
  },
  {
   "cell_type": "code",
   "execution_count": 5,
   "metadata": {},
   "outputs": [],
   "source": [
    "data = data[pd.notnull(data['username'])]"
   ]
  },
  {
   "cell_type": "code",
   "execution_count": 6,
   "metadata": {},
   "outputs": [
    {
     "data": {
      "text/plain": [
       "(3500462, 14)"
      ]
     },
     "execution_count": 6,
     "metadata": {},
     "output_type": "execute_result"
    }
   ],
   "source": [
    "data.shape"
   ]
  },
  {
   "cell_type": "code",
   "execution_count": 7,
   "metadata": {},
   "outputs": [
    {
     "data": {
      "text/plain": [
       "(3500462, 2)"
      ]
     },
     "execution_count": 7,
     "metadata": {},
     "output_type": "execute_result"
    }
   ],
   "source": [
    "df_talk_about = data[['username', 'talking_about_count']] \n",
    "df_talk_about.head(5)\n",
    "df_talk_about.shape"
   ]
  },
  {
   "cell_type": "code",
   "execution_count": 8,
   "metadata": {},
   "outputs": [
    {
     "data": {
      "text/html": [
       "<div>\n",
       "<table border=\"1\" class=\"dataframe\">\n",
       "  <thead>\n",
       "    <tr style=\"text-align: right;\">\n",
       "      <th></th>\n",
       "      <th>username</th>\n",
       "      <th>talking_about_count</th>\n",
       "    </tr>\n",
       "  </thead>\n",
       "  <tbody>\n",
       "    <tr>\n",
       "      <th>0</th>\n",
       "      <td>1011News</td>\n",
       "      <td>13775631</td>\n",
       "    </tr>\n",
       "    <tr>\n",
       "      <th>1</th>\n",
       "      <td>1019thewolf</td>\n",
       "      <td>12471475</td>\n",
       "    </tr>\n",
       "    <tr>\n",
       "      <th>2</th>\n",
       "      <td>1027WGUS</td>\n",
       "      <td>3140</td>\n",
       "    </tr>\n",
       "    <tr>\n",
       "      <th>3</th>\n",
       "      <td>105.7WROR</td>\n",
       "      <td>290106</td>\n",
       "    </tr>\n",
       "    <tr>\n",
       "      <th>4</th>\n",
       "      <td>1079mixfm</td>\n",
       "      <td>4648436</td>\n",
       "    </tr>\n",
       "  </tbody>\n",
       "</table>\n",
       "</div>"
      ],
      "text/plain": [
       "      username  talking_about_count\n",
       "0     1011News             13775631\n",
       "1  1019thewolf             12471475\n",
       "2     1027WGUS                 3140\n",
       "3    105.7WROR               290106\n",
       "4    1079mixfm              4648436"
      ]
     },
     "execution_count": 8,
     "metadata": {},
     "output_type": "execute_result"
    }
   ],
   "source": [
    "df_talk_about_grouped = df_talk_about.groupby(['username'], as_index=False).agg({\"talking_about_count\": \"sum\"})\n",
    "df_talk_about_grouped.head(5)"
   ]
  },
  {
   "cell_type": "code",
   "execution_count": 9,
   "metadata": {},
   "outputs": [
    {
     "data": {
      "text/html": [
       "<div>\n",
       "<table border=\"1\" class=\"dataframe\">\n",
       "  <thead>\n",
       "    <tr style=\"text-align: right;\">\n",
       "      <th></th>\n",
       "      <th>username</th>\n",
       "      <th>talking_about_count</th>\n",
       "    </tr>\n",
       "  </thead>\n",
       "  <tbody>\n",
       "    <tr>\n",
       "      <th>4056</th>\n",
       "      <td>manchesterunited</td>\n",
       "      <td>1992699726</td>\n",
       "    </tr>\n",
       "    <tr>\n",
       "      <th>4921</th>\n",
       "      <td>wwe</td>\n",
       "      <td>1516594798</td>\n",
       "    </tr>\n",
       "    <tr>\n",
       "      <th>4236</th>\n",
       "      <td>nytimes</td>\n",
       "      <td>1147572240</td>\n",
       "    </tr>\n",
       "    <tr>\n",
       "      <th>646</th>\n",
       "      <td>CollegeHumor</td>\n",
       "      <td>833458766</td>\n",
       "    </tr>\n",
       "    <tr>\n",
       "      <th>838</th>\n",
       "      <td>ESPN</td>\n",
       "      <td>807814872</td>\n",
       "    </tr>\n",
       "  </tbody>\n",
       "</table>\n",
       "</div>"
      ],
      "text/plain": [
       "              username  talking_about_count\n",
       "4056  manchesterunited           1992699726\n",
       "4921               wwe           1516594798\n",
       "4236           nytimes           1147572240\n",
       "646       CollegeHumor            833458766\n",
       "838               ESPN            807814872"
      ]
     },
     "execution_count": 9,
     "metadata": {},
     "output_type": "execute_result"
    }
   ],
   "source": [
    "# sort in descending order\n",
    "df_talk_about_grouped = df_talk_about_grouped.sort_values(by='talking_about_count', ascending=False)\n",
    "df_talk_about_grouped.head(5)"
   ]
  },
  {
   "cell_type": "code",
   "execution_count": 13,
   "metadata": {},
   "outputs": [
    {
     "data": {
      "text/html": [
       "<div>\n",
       "<table border=\"1\" class=\"dataframe\">\n",
       "  <thead>\n",
       "    <tr style=\"text-align: right;\">\n",
       "      <th></th>\n",
       "      <th>dataset_id</th>\n",
       "      <th>time</th>\n",
       "      <th>username</th>\n",
       "      <th>checkins</th>\n",
       "      <th>has_added_app</th>\n",
       "      <th>were_here_count</th>\n",
       "      <th>likes</th>\n",
       "      <th>talking_about_count</th>\n",
       "      <th>facebook_id</th>\n",
       "      <th>date_added</th>\n",
       "      <th>date_updated</th>\n",
       "      <th>entity_id</th>\n",
       "      <th>cusip</th>\n",
       "      <th>isin</th>\n",
       "    </tr>\n",
       "  </thead>\n",
       "  <tbody>\n",
       "    <tr>\n",
       "      <th>0</th>\n",
       "      <td>53088</td>\n",
       "      <td>2015-01-01 05:00:00</td>\n",
       "      <td>SodaStream</td>\n",
       "      <td>0</td>\n",
       "      <td>f</td>\n",
       "      <td>0</td>\n",
       "      <td>761533</td>\n",
       "      <td>587</td>\n",
       "      <td>54885616308</td>\n",
       "      <td>NaN</td>\n",
       "      <td>2017-02-14 03:35:13.236826+00</td>\n",
       "      <td>NaN</td>\n",
       "      <td>NaN</td>\n",
       "      <td>NaN</td>\n",
       "    </tr>\n",
       "    <tr>\n",
       "      <th>1</th>\n",
       "      <td>52642</td>\n",
       "      <td>2015-01-01 05:00:00</td>\n",
       "      <td>ANSYSInc</td>\n",
       "      <td>148</td>\n",
       "      <td>f</td>\n",
       "      <td>0</td>\n",
       "      <td>43442</td>\n",
       "      <td>1305</td>\n",
       "      <td>160242297413411</td>\n",
       "      <td>NaN</td>\n",
       "      <td>2017-02-14 01:55:52.78506+00</td>\n",
       "      <td>NaN</td>\n",
       "      <td>NaN</td>\n",
       "      <td>NaN</td>\n",
       "    </tr>\n",
       "    <tr>\n",
       "      <th>2</th>\n",
       "      <td>53656</td>\n",
       "      <td>2015-01-01 05:00:00</td>\n",
       "      <td>MyAquaAmerica</td>\n",
       "      <td>0</td>\n",
       "      <td>f</td>\n",
       "      <td>0</td>\n",
       "      <td>5591</td>\n",
       "      <td>297</td>\n",
       "      <td>591693544195818</td>\n",
       "      <td>NaN</td>\n",
       "      <td>2017-02-14 08:13:51.267343+00</td>\n",
       "      <td>NaN</td>\n",
       "      <td>NaN</td>\n",
       "      <td>NaN</td>\n",
       "    </tr>\n",
       "    <tr>\n",
       "      <th>3</th>\n",
       "      <td>53033</td>\n",
       "      <td>2015-01-01 05:00:00</td>\n",
       "      <td>Qualcomm</td>\n",
       "      <td>173</td>\n",
       "      <td>f</td>\n",
       "      <td>0</td>\n",
       "      <td>1232521</td>\n",
       "      <td>2685</td>\n",
       "      <td>108472637291</td>\n",
       "      <td>NaN</td>\n",
       "      <td>2017-02-14 03:24:04.363035+00</td>\n",
       "      <td>NaN</td>\n",
       "      <td>NaN</td>\n",
       "      <td>NaN</td>\n",
       "    </tr>\n",
       "    <tr>\n",
       "      <th>4</th>\n",
       "      <td>52783</td>\n",
       "      <td>2015-01-01 05:00:00</td>\n",
       "      <td>eaglepharmaceuticals</td>\n",
       "      <td>0</td>\n",
       "      <td>f</td>\n",
       "      <td>0</td>\n",
       "      <td>18</td>\n",
       "      <td>0</td>\n",
       "      <td>1428265940729350</td>\n",
       "      <td>NaN</td>\n",
       "      <td>2017-02-14 02:22:10.193588+00</td>\n",
       "      <td>NaN</td>\n",
       "      <td>NaN</td>\n",
       "      <td>NaN</td>\n",
       "    </tr>\n",
       "  </tbody>\n",
       "</table>\n",
       "</div>"
      ],
      "text/plain": [
       "   dataset_id                time              username  checkins  \\\n",
       "0       53088 2015-01-01 05:00:00            SodaStream         0   \n",
       "1       52642 2015-01-01 05:00:00              ANSYSInc       148   \n",
       "2       53656 2015-01-01 05:00:00         MyAquaAmerica         0   \n",
       "3       53033 2015-01-01 05:00:00              Qualcomm       173   \n",
       "4       52783 2015-01-01 05:00:00  eaglepharmaceuticals         0   \n",
       "\n",
       "  has_added_app  were_here_count    likes  talking_about_count  \\\n",
       "0             f                0   761533                  587   \n",
       "1             f                0    43442                 1305   \n",
       "2             f                0     5591                  297   \n",
       "3             f                0  1232521                 2685   \n",
       "4             f                0       18                    0   \n",
       "\n",
       "        facebook_id date_added                   date_updated  entity_id  \\\n",
       "0       54885616308        NaN  2017-02-14 03:35:13.236826+00        NaN   \n",
       "1   160242297413411        NaN   2017-02-14 01:55:52.78506+00        NaN   \n",
       "2   591693544195818        NaN  2017-02-14 08:13:51.267343+00        NaN   \n",
       "3      108472637291        NaN  2017-02-14 03:24:04.363035+00        NaN   \n",
       "4  1428265940729350        NaN  2017-02-14 02:22:10.193588+00        NaN   \n",
       "\n",
       "   cusip  isin  \n",
       "0    NaN   NaN  \n",
       "1    NaN   NaN  \n",
       "2    NaN   NaN  \n",
       "3    NaN   NaN  \n",
       "4    NaN   NaN  "
      ]
     },
     "execution_count": 13,
     "metadata": {},
     "output_type": "execute_result"
    }
   ],
   "source": [
    "# Convert time from object to datetime\n",
    "data['time'] = pd.to_datetime(data['time'])\n",
    "data.head(5)"
   ]
  },
  {
   "cell_type": "code",
   "execution_count": 14,
   "metadata": {},
   "outputs": [
    {
     "data": {
      "text/html": [
       "<div>\n",
       "<table border=\"1\" class=\"dataframe\">\n",
       "  <thead>\n",
       "    <tr style=\"text-align: right;\">\n",
       "      <th></th>\n",
       "      <th>time</th>\n",
       "      <th>username</th>\n",
       "      <th>talking_about_count</th>\n",
       "    </tr>\n",
       "  </thead>\n",
       "  <tbody>\n",
       "    <tr>\n",
       "      <th>3821</th>\n",
       "      <td>2015-01-12 05:00:00</td>\n",
       "      <td>manchesterunited</td>\n",
       "      <td>2372102</td>\n",
       "    </tr>\n",
       "    <tr>\n",
       "      <th>4351</th>\n",
       "      <td>2015-01-13 05:00:00</td>\n",
       "      <td>manchesterunited</td>\n",
       "      <td>2596679</td>\n",
       "    </tr>\n",
       "    <tr>\n",
       "      <th>4763</th>\n",
       "      <td>2015-01-14 05:00:00</td>\n",
       "      <td>manchesterunited</td>\n",
       "      <td>2639576</td>\n",
       "    </tr>\n",
       "  </tbody>\n",
       "</table>\n",
       "</div>"
      ],
      "text/plain": [
       "                    time          username  talking_about_count\n",
       "3821 2015-01-12 05:00:00  manchesterunited              2372102\n",
       "4351 2015-01-13 05:00:00  manchesterunited              2596679\n",
       "4763 2015-01-14 05:00:00  manchesterunited              2639576"
      ]
     },
     "execution_count": 14,
     "metadata": {},
     "output_type": "execute_result"
    }
   ],
   "source": [
    "# zoom in the trend of talking_about_count of manchesterunited that shows a decline in the trend although it is ranked the first\n",
    "# with highest volatility of “talking about count” compared to the rest of the userids\n",
    "df_talk_about_time_talking = data[['time', 'username', 'talking_about_count']] \n",
    "df_talk_about_time_talking_filtered = df_talk_about_time_talking[df_talk_about_time_talking['username'] == 'manchesterunited']\n",
    "df_talk_about_time_talking_filtered.head(3)"
   ]
  },
  {
   "cell_type": "code",
   "execution_count": 247,
   "metadata": {},
   "outputs": [
    {
     "data": {
      "image/png": "[encoded data removed]",
      "text/plain": [
       "<matplotlib.figure.Figure at 0x2cf13186940>"
      ]
     },
     "metadata": {},
     "output_type": "display_data"
    }
   ],
   "source": [
    "# This plot shows the talking about counts of Manchester united from 2015 to 2018\n",
    "fig, ax = plt.subplots()\n",
    "\n",
    "df_talk_about_time_talking_filtered.plot(ax=ax, x='time', y='talking_about_count', kind='line')\n",
    "ax.set_xlabel(\"year\")\n",
    "ax.set_ylabel(\"talking_about_count\")\n",
    "plt.show()"
   ]
  },
  {
   "cell_type": "code",
   "execution_count": 15,
   "metadata": {},
   "outputs": [
    {
     "data": {
      "text/plain": [
       "[<matplotlib.lines.Line2D at 0x168d3505a20>]"
      ]
     },
     "execution_count": 15,
     "metadata": {},
     "output_type": "execute_result"
    },
    {
     "data": {
      "image/png": "[encoded data removed]",
      "text/plain": [
       "<matplotlib.figure.Figure at 0x16887c46c18>"
      ]
     },
     "metadata": {},
     "output_type": "display_data"
    }
   ],
   "source": [
    "# plot the trend of Manchester united from 2015 to 2018\n",
    "from scipy.stats import linregress\n",
    "\n",
    "x = df_talk_about_time_talking_filtered.index\n",
    "y = df_talk_about_time_talking_filtered['talking_about_count']\n",
    "\n",
    "stats = linregress(x, y)\n",
    "\n",
    "m = stats.slope\n",
    "b = stats.intercept\n",
    "\n",
    "fig, ax = plt.subplots()\n",
    "\n",
    "ax.scatter(x, y)\n",
    "ax.set_xlabel(\"Year\")\n",
    "ax.set_ylabel(\"Talking about count\")\n",
    "\n",
    "ax.set_xticklabels([])\n",
    "    \n",
    "ax.plot(x, m * x + b, color=\"red\")   # plot a regression line"
   ]
  },
  {
   "cell_type": "markdown",
   "metadata": {},
   "source": [
    "### Analysis of the scatter Diagram\n",
    "#### The diagram showed that the top five winners are manchesterunited, wwe, nytimes, CollegeHumor, and ESPN.\n",
    "#### The first diagram showed that there is a dramatic decrease of the talking in the second half of 2016. It also demonstrates that there is a trend of decrease of the talking about count metric on manchesterunited from 2015 to 2018 plot."
   ]
  },
  {
   "cell_type": "code",
   "execution_count": null,
   "metadata": {},
   "outputs": [],
   "source": []
  }
 ],
 "metadata": {
  "kernelspec": {
   "display_name": "Python [conda env:dlnd-tf-lab]",
   "language": "python",
   "name": "conda-env-dlnd-tf-lab-py"
  },
  "language_info": {
   "codemirror_mode": {
    "name": "ipython",
    "version": 3
   },
   "file_extension": ".py",
   "mimetype": "text/x-python",
   "name": "python",
   "nbconvert_exporter": "python",
   "pygments_lexer": "ipython3",
   "version": "3.5.2"
  }
 },
 "nbformat": 4,
 "nbformat_minor": 2
}
